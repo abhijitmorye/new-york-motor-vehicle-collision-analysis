{
 "cells": [
  {
   "cell_type": "code",
   "execution_count": 0,
   "metadata": {
    "application/vnd.databricks.v1+cell": {
     "cellMetadata": {
      "byteLimit": 2048000,
      "rowLimit": 10000
     },
     "inputWidgets": {},
     "nuid": "f09faf4e-a040-46df-bd96-bdfaaffa2299",
     "showTitle": false,
     "title": ""
    }
   },
   "outputs": [],
   "source": [
    "## connnecting to container\n",
    "\n",
    "spark.conf.set(\n",
    "    \"fs.azure.account.key.azdestabm001.dfs.core.windows.net\",\n",
    "    dbutils.secrets.get(scope=\"az-blob-storage-account_key\", key=\"az-de-st-key-01\"))"
   ]
  },
  {
   "cell_type": "markdown",
   "metadata": {
    "application/vnd.databricks.v1+cell": {
     "cellMetadata": {
      "byteLimit": 2048000,
      "rowLimit": 10000
     },
     "inputWidgets": {},
     "nuid": "c307997d-61b8-441a-bfcf-8883fc5d1916",
     "showTitle": false,
     "title": ""
    }
   },
   "source": [
    "## Data loading and cleaning"
   ]
  },
  {
   "cell_type": "code",
   "execution_count": 0,
   "metadata": {
    "application/vnd.databricks.v1+cell": {
     "cellMetadata": {
      "byteLimit": 2048000,
      "rowLimit": 10000
     },
     "inputWidgets": {},
     "nuid": "c4ce575b-2ed7-4dab-9e15-56a129d0569e",
     "showTitle": false,
     "title": ""
    }
   },
   "outputs": [],
   "source": [
    "raw_mv_file = dbutils.fs.ls(f\"abfss://motorvehiclecollisiondata@azdestabm001.dfs.core.windows.net/raw\")\n",
    "raw_mv_file"
   ]
  },
  {
   "cell_type": "code",
   "execution_count": 0,
   "metadata": {
    "application/vnd.databricks.v1+cell": {
     "cellMetadata": {
      "byteLimit": 2048000,
      "rowLimit": 10000
     },
     "inputWidgets": {},
     "nuid": "30203068-8e55-4dc4-9bc2-04e9b98de540",
     "showTitle": false,
     "title": ""
    }
   },
   "outputs": [],
   "source": [
    "from pyspark.sql.functions import col, to_date, when, count, month, year, dayofmonth, desc, asc, udf\n",
    "from pyspark.sql.types import StringType, IntegerType"
   ]
  },
  {
   "cell_type": "code",
   "execution_count": 0,
   "metadata": {
    "application/vnd.databricks.v1+cell": {
     "cellMetadata": {
      "byteLimit": 2048000,
      "rowLimit": 10000
     },
     "inputWidgets": {},
     "nuid": "dda082dc-4b81-4acf-b49b-7b5573e922de",
     "showTitle": false,
     "title": ""
    }
   },
   "outputs": [],
   "source": [
    "### reading csv file into spark dataframe\n",
    "\n",
    "df = spark.read.format('csv').option('header', True).load('abfss://motorvehiclecollisiondata@azdestabm001.dfs.core.windows.net/raw/MotorVehicleCollisionData.csv')\n",
    "df.show(5)"
   ]
  },
  {
   "cell_type": "code",
   "execution_count": 0,
   "metadata": {
    "application/vnd.databricks.v1+cell": {
     "cellMetadata": {
      "byteLimit": 2048000,
      "rowLimit": 10000
     },
     "inputWidgets": {},
     "nuid": "8d808049-ba9f-42dc-98e5-dcd19162edb2",
     "showTitle": false,
     "title": ""
    }
   },
   "outputs": [],
   "source": [
    "display(df)"
   ]
  },
  {
   "cell_type": "code",
   "execution_count": 0,
   "metadata": {
    "application/vnd.databricks.v1+cell": {
     "cellMetadata": {
      "byteLimit": 2048000,
      "rowLimit": 10000
     },
     "inputWidgets": {},
     "nuid": "e4b49503-d4c4-4434-969d-5ced5bed1d0d",
     "showTitle": false,
     "title": ""
    }
   },
   "outputs": [],
   "source": [
    "## printing schema\n",
    "\n",
    "df.printSchema()"
   ]
  },
  {
   "cell_type": "code",
   "execution_count": 0,
   "metadata": {
    "application/vnd.databricks.v1+cell": {
     "cellMetadata": {
      "byteLimit": 2048000,
      "rowLimit": 10000
     },
     "inputWidgets": {},
     "nuid": "659bd447-4ab5-4ca0-b8d8-1eff52c82711",
     "showTitle": false,
     "title": ""
    }
   },
   "outputs": [],
   "source": [
    "df = df.withColumn('ZIP CODE', col('ZIP CODE').cast('int'))\n",
    "df = df.withColumn('LATITUDE', col('LATITUDE').cast('double'))\n",
    "df = df.withColumn('LONGITUDE', col('LONGITUDE').cast('double'))\n",
    "df = df.withColumn('NUMBER OF PERSONS INJURED', col('NUMBER OF PERSONS INJURED').cast('int'))\n",
    "df = df.withColumn('NUMBER OF PERSONS KILLED', col('NUMBER OF PERSONS KILLED').cast('int'))\n",
    "df = df.withColumn('NUMBER OF CYCLIST INJURED', col('NUMBER OF CYCLIST INJURED').cast('int'))\n",
    "df = df.withColumn('NUMBER OF PEDESTRIANS INJURED', col('NUMBER OF PEDESTRIANS INJURED').cast('int'))\n",
    "df = df.withColumn('NUMBER OF PEDESTRIANS KILLED', col('NUMBER OF PEDESTRIANS KILLED').cast('int'))\n",
    "df = df.withColumn('NUMBER OF CYCLIST KILLED', col('NUMBER OF CYCLIST KILLED').cast('int'))\n",
    "df = df.withColumn('NUMBER OF MOTORIST INJURED', col('NUMBER OF MOTORIST INJURED').cast('int'))\n",
    "df = df.withColumn('NUMBER OF MOTORIST KILLED', col('NUMBER OF MOTORIST KILLED').cast('int'))\n",
    "df = df.withColumn('COLLISION_ID', col('COLLISION_ID').cast('int'))\n",
    "df = df.withColumn('CRASH DATE', to_date(col('CRASH DATE'), 'MM/dd/yyyy'))\n",
    "df.printSchema()"
   ]
  },
  {
   "cell_type": "code",
   "execution_count": 0,
   "metadata": {
    "application/vnd.databricks.v1+cell": {
     "cellMetadata": {
      "byteLimit": 2048000,
      "rowLimit": 10000
     },
     "inputWidgets": {},
     "nuid": "fc2ad68b-3cde-4cd0-8d07-ce73e713b6cb",
     "showTitle": false,
     "title": ""
    }
   },
   "outputs": [],
   "source": [
    "display(df)"
   ]
  },
  {
   "cell_type": "code",
   "execution_count": 0,
   "metadata": {
    "application/vnd.databricks.v1+cell": {
     "cellMetadata": {
      "byteLimit": 2048000,
      "rowLimit": 10000
     },
     "inputWidgets": {},
     "nuid": "fc7868da-ae52-4864-acc6-ea97c30462cb",
     "showTitle": false,
     "title": ""
    }
   },
   "outputs": [],
   "source": [
    "## counting number of null values from each column\n",
    "\n",
    "display(df.select([count(when(col(x).isNull(), True)).alias(x) for x in df.columns]))"
   ]
  },
  {
   "cell_type": "code",
   "execution_count": 0,
   "metadata": {
    "application/vnd.databricks.v1+cell": {
     "cellMetadata": {
      "byteLimit": 2048000,
      "rowLimit": 10000
     },
     "inputWidgets": {},
     "nuid": "e5f26010-40c0-4c2f-90ca-9451cbf58249",
     "showTitle": false,
     "title": ""
    }
   },
   "outputs": [],
   "source": [
    "# lets drop rows with null crash date and null collision id\n",
    "\n",
    "df = df.filter(col('CRASH DATE').isNotNull()).filter(col('COLLISION_ID').isNotNull())\n",
    "display(df.select([count(when(col(x).isNull(), True)).alias(x) for x in df.columns]))"
   ]
  },
  {
   "cell_type": "code",
   "execution_count": 0,
   "metadata": {
    "application/vnd.databricks.v1+cell": {
     "cellMetadata": {
      "byteLimit": 2048000,
      "rowLimit": 10000
     },
     "inputWidgets": {},
     "nuid": "5bba13c6-3319-4702-8921-f946dc867f0c",
     "showTitle": false,
     "title": ""
    }
   },
   "outputs": [],
   "source": [
    "## lets change the name of columns to lower case and replace space with underscore, better for data storage in target table\n",
    "\n",
    "for col_name in df.columns:\n",
    "\n",
    "    new_column_name = '_'.join(col_name.split(' ')).lower()\n",
    "    df = df.withColumnRenamed(col_name, new_column_name)\n",
    "\n",
    "display(df)"
   ]
  },
  {
   "cell_type": "code",
   "execution_count": 0,
   "metadata": {
    "application/vnd.databricks.v1+cell": {
     "cellMetadata": {
      "byteLimit": 2048000,
      "rowLimit": 10000
     },
     "inputWidgets": {},
     "nuid": "e5867dec-bb87-4c4f-833d-574b13e079ab",
     "showTitle": false,
     "title": ""
    }
   },
   "outputs": [],
   "source": [
    "## lets add creash_year, crash_month, crash_date column\n",
    "\n",
    "df = df.withColumn('crash_month', month(col('crash_date')))\\\n",
    "    .withColumn('crash_year', year(col('crash_date')))\\\n",
    "        .withColumn('crash_day', dayofmonth(col('crash_date')))\n",
    "display(df)"
   ]
  },
  {
   "cell_type": "code",
   "execution_count": 0,
   "metadata": {
    "application/vnd.databricks.v1+cell": {
     "cellMetadata": {
      "byteLimit": 2048000,
      "rowLimit": 10000
     },
     "inputWidgets": {},
     "nuid": "f8cea00b-1000-41d6-8218-0fd204877f84",
     "showTitle": false,
     "title": ""
    }
   },
   "outputs": [],
   "source": [
    "## lets drop location column as this column is combination of columns, latitude and longitude\n",
    "\n",
    "df = df.drop(col('location'))\\\n",
    "    .drop(col('vehicle_type_code_3'))\\\n",
    "        .drop(col('vehicle_type_code_4'))\\\n",
    "            .drop(col('vehicle_type_code_5'))\\\n",
    "                .drop(col('contributing_factor_vehicle_2'))\\\n",
    "                    .drop(col('contributing_factor_vehicle_3'))\\\n",
    "                        .drop(col('contributing_factor_vehicle_4'))\\\n",
    "                            .drop(col('contributing_factor_vehicle_5'))\n",
    "display(df)"
   ]
  },
  {
   "cell_type": "markdown",
   "metadata": {
    "application/vnd.databricks.v1+cell": {
     "cellMetadata": {
      "byteLimit": 2048000,
      "rowLimit": 10000
     },
     "inputWidgets": {},
     "nuid": "7a4cd4a4-0791-4350-bc89-12dbdcf93857",
     "showTitle": false,
     "title": ""
    }
   },
   "source": [
    "## Data Analysis"
   ]
  },
  {
   "cell_type": "markdown",
   "metadata": {
    "application/vnd.databricks.v1+cell": {
     "cellMetadata": {
      "byteLimit": 2048000,
      "rowLimit": 10000
     },
     "inputWidgets": {},
     "nuid": "f830280f-0c67-4240-ba6b-c91ae40d132d",
     "showTitle": false,
     "title": ""
    }
   },
   "source": [
    "### 1. Count Of Total Collisions per year"
   ]
  },
  {
   "cell_type": "code",
   "execution_count": 0,
   "metadata": {
    "application/vnd.databricks.v1+cell": {
     "cellMetadata": {
      "byteLimit": 2048000,
      "rowLimit": 10000
     },
     "inputWidgets": {},
     "nuid": "b3c99be1-660d-4a6a-a38d-e4fe7c5f19a8",
     "showTitle": false,
     "title": ""
    }
   },
   "outputs": [],
   "source": [
    "df.groupBy(col('crash_year')).agg({'collision_id': 'count'}).sort('crash_year').show()"
   ]
  },
  {
   "cell_type": "markdown",
   "metadata": {
    "application/vnd.databricks.v1+cell": {
     "cellMetadata": {
      "byteLimit": 2048000,
      "rowLimit": 10000
     },
     "inputWidgets": {},
     "nuid": "df2b957a-d048-44e5-834d-3e187fe1feb0",
     "showTitle": false,
     "title": ""
    }
   },
   "source": [
    "### 2. Count Of Total Collisions per month of year"
   ]
  },
  {
   "cell_type": "code",
   "execution_count": 0,
   "metadata": {
    "application/vnd.databricks.v1+cell": {
     "cellMetadata": {
      "byteLimit": 2048000,
      "rowLimit": 10000
     },
     "inputWidgets": {},
     "nuid": "0d742eb0-7e9f-4431-a6bd-9814f78dcb92",
     "showTitle": false,
     "title": ""
    }
   },
   "outputs": [],
   "source": [
    "df.groupBy(col('crash_year'), col('crash_month')).agg({'collision_id': 'count'}).sort(['crash_year', 'crash_month']).show()"
   ]
  },
  {
   "cell_type": "markdown",
   "metadata": {
    "application/vnd.databricks.v1+cell": {
     "cellMetadata": {
      "byteLimit": 2048000,
      "rowLimit": 10000
     },
     "inputWidgets": {},
     "nuid": "86a488b8-7649-4f6a-ad59-d8448246e92f",
     "showTitle": false,
     "title": ""
    }
   },
   "source": [
    "### 3.Most Accident prone borough.district"
   ]
  },
  {
   "cell_type": "code",
   "execution_count": 0,
   "metadata": {
    "application/vnd.databricks.v1+cell": {
     "cellMetadata": {
      "byteLimit": 2048000,
      "rowLimit": 10000
     },
     "inputWidgets": {},
     "nuid": "3104626f-b776-421c-8ea5-9eb84d7bee15",
     "showTitle": false,
     "title": ""
    }
   },
   "outputs": [],
   "source": [
    "df.filter(col('borough').isNotNull()).groupBy(col('borough')).agg({'collision_id': 'count'}).sort(['borough', 'count(collision_id)']).show()"
   ]
  },
  {
   "cell_type": "markdown",
   "metadata": {
    "application/vnd.databricks.v1+cell": {
     "cellMetadata": {
      "byteLimit": 2048000,
      "rowLimit": 10000
     },
     "inputWidgets": {},
     "nuid": "357c1e36-c839-4467-8056-0d59a2ef59e1",
     "showTitle": false,
     "title": ""
    }
   },
   "source": [
    "### 4.count of total injured ppl per year"
   ]
  },
  {
   "cell_type": "code",
   "execution_count": 0,
   "metadata": {
    "application/vnd.databricks.v1+cell": {
     "cellMetadata": {
      "byteLimit": 2048000,
      "rowLimit": 10000
     },
     "inputWidgets": {},
     "nuid": "5723023b-d823-444e-8254-1adc93466c67",
     "showTitle": false,
     "title": ""
    }
   },
   "outputs": [],
   "source": [
    "df.filter(col('number_of_persons_injured').isNotNull()).groupBy(col('crash_year')).agg({'number_of_persons_injured': 'sum'}).sort('crash_year').show()"
   ]
  },
  {
   "cell_type": "markdown",
   "metadata": {
    "application/vnd.databricks.v1+cell": {
     "cellMetadata": {
      "byteLimit": 2048000,
      "rowLimit": 10000
     },
     "inputWidgets": {},
     "nuid": "de0b9e72-53b9-450b-afcc-494d4a714084",
     "showTitle": false,
     "title": ""
    }
   },
   "source": [
    "### 5.Number of ppl killed per year in the crashes"
   ]
  },
  {
   "cell_type": "code",
   "execution_count": 0,
   "metadata": {
    "application/vnd.databricks.v1+cell": {
     "cellMetadata": {
      "byteLimit": 2048000,
      "rowLimit": 10000
     },
     "inputWidgets": {},
     "nuid": "43281a96-1a43-4796-9cbe-425db38ce2d2",
     "showTitle": false,
     "title": ""
    }
   },
   "outputs": [],
   "source": [
    "df.filter(col('number_of_persons_killed').isNotNull()).groupBy(col('crash_year')).agg({'number_of_persons_killed': 'sum'}).sort('crash_year').show()"
   ]
  },
  {
   "cell_type": "markdown",
   "metadata": {
    "application/vnd.databricks.v1+cell": {
     "cellMetadata": {
      "byteLimit": 2048000,
      "rowLimit": 10000
     },
     "inputWidgets": {},
     "nuid": "6fb6a421-ce05-4414-a92a-6e5d83885280",
     "showTitle": false,
     "title": ""
    }
   },
   "source": [
    "### 6.Number of pedestrians killed per year in the crashes"
   ]
  },
  {
   "cell_type": "code",
   "execution_count": 0,
   "metadata": {
    "application/vnd.databricks.v1+cell": {
     "cellMetadata": {
      "byteLimit": 2048000,
      "rowLimit": 10000
     },
     "inputWidgets": {},
     "nuid": "cb691845-aaa4-4870-be47-44ce42da9500",
     "showTitle": false,
     "title": ""
    }
   },
   "outputs": [],
   "source": [
    "df.filter(col('number_of_pedestrians_killed').isNotNull()).groupBy(col('crash_year')).agg({'number_of_pedestrians_killed': 'sum'}).sort('crash_year').show()"
   ]
  },
  {
   "cell_type": "markdown",
   "metadata": {
    "application/vnd.databricks.v1+cell": {
     "cellMetadata": {
      "byteLimit": 2048000,
      "rowLimit": 10000
     },
     "inputWidgets": {},
     "nuid": "9a5f7a50-afde-401a-8a83-31b6387f63ab",
     "showTitle": false,
     "title": ""
    }
   },
   "source": [
    "### 7.Analyze vehicle type involved in the crashes"
   ]
  },
  {
   "cell_type": "code",
   "execution_count": 0,
   "metadata": {
    "application/vnd.databricks.v1+cell": {
     "cellMetadata": {
      "byteLimit": 2048000,
      "rowLimit": 10000
     },
     "inputWidgets": {},
     "nuid": "ac623365-00b1-4c60-9bef-fd2f2d1ad782",
     "showTitle": false,
     "title": ""
    }
   },
   "outputs": [],
   "source": [
    "display(df.fillna({'vehicle_type_code_1': 'Unspecified'}).groupBy('vehicle_type_code_1').agg({'collision_id': 'count'}).sort(desc(col('count(collision_id)'))))"
   ]
  },
  {
   "cell_type": "markdown",
   "metadata": {
    "application/vnd.databricks.v1+cell": {
     "cellMetadata": {
      "byteLimit": 2048000,
      "rowLimit": 10000
     },
     "inputWidgets": {},
     "nuid": "2ed2e81d-65e6-49dd-8f4f-b5b821d709b3",
     "showTitle": false,
     "title": ""
    }
   },
   "source": [
    "One thing we noticed from above analysis is that, due to inconsistency of cases, even though taxi and TAXI are same, they are counted as different, lets create UDF to tacle this prpblem for all string data  "
   ]
  },
  {
   "cell_type": "code",
   "execution_count": 0,
   "metadata": {
    "application/vnd.databricks.v1+cell": {
     "cellMetadata": {
      "byteLimit": 2048000,
      "rowLimit": 10000
     },
     "inputWidgets": {},
     "nuid": "5c95d63a-6c36-4f6b-b326-7f2d9978efcd",
     "showTitle": false,
     "title": ""
    }
   },
   "outputs": [],
   "source": [
    "def to_lower_case(str_):\n",
    "    print(str_)\n",
    "    if str_ is not None:\n",
    "        return str_.lower()\n",
    "string_data_to_lower_case = udf(to_lower_case, StringType())\n",
    "str_cols = [f.name for f in df.schema.fields if isinstance(f.dataType, StringType)]\n",
    "print(str_cols)\n",
    "for col_name in str_cols:\n",
    "    if col_name == 'crash_time':\n",
    "        continue\n",
    "    else:\n",
    "        df = df.withColumn(col_name, string_data_to_lower_case(col(col_name)))\n",
    "display(df)"
   ]
  },
  {
   "cell_type": "code",
   "execution_count": 0,
   "metadata": {
    "application/vnd.databricks.v1+cell": {
     "cellMetadata": {
      "byteLimit": 2048000,
      "rowLimit": 10000
     },
     "inputWidgets": {},
     "nuid": "908bc075-2baf-4684-8b86-e9748d661f5d",
     "showTitle": false,
     "title": ""
    }
   },
   "outputs": [],
   "source": [
    "display(df.fillna({'vehicle_type_code_1': 'unspecified'}).groupBy('vehicle_type_code_1').agg({'collision_id': 'count'}).sort(desc(col('count(collision_id)'))))"
   ]
  },
  {
   "cell_type": "markdown",
   "metadata": {
    "application/vnd.databricks.v1+cell": {
     "cellMetadata": {},
     "inputWidgets": {},
     "nuid": "9c98bb62-e93c-47ef-9f27-3648c8fde04d",
     "showTitle": false,
     "title": ""
    }
   },
   "source": [
    "### 8.Top reasons for crashes"
   ]
  },
  {
   "cell_type": "code",
   "execution_count": 0,
   "metadata": {
    "application/vnd.databricks.v1+cell": {
     "cellMetadata": {
      "byteLimit": 2048000,
      "rowLimit": 10000
     },
     "inputWidgets": {},
     "nuid": "df1e9056-6421-4a38-ac4e-0e85f6549ee8",
     "showTitle": false,
     "title": ""
    }
   },
   "outputs": [],
   "source": [
    "df.fillna({'contributing_factor_vehicle_1': 'unspecified'}).groupBy(col('contributing_factor_vehicle_1')).agg({'collision_id': 'count'}).sort(desc(col('count(collision_id)'))).show()"
   ]
  },
  {
   "cell_type": "markdown",
   "metadata": {
    "application/vnd.databricks.v1+cell": {
     "cellMetadata": {
      "byteLimit": 2048000,
      "rowLimit": 10000
     },
     "inputWidgets": {},
     "nuid": "fd0fab1e-652a-4a9e-ab37-5d445e582c00",
     "showTitle": false,
     "title": ""
    }
   },
   "source": [
    "## Clean data storage into Azure blob storage"
   ]
  },
  {
   "cell_type": "code",
   "execution_count": 0,
   "metadata": {
    "application/vnd.databricks.v1+cell": {
     "cellMetadata": {
      "byteLimit": 2048000,
      "rowLimit": 10000
     },
     "inputWidgets": {},
     "nuid": "5760f719-312c-498b-998a-bf68ceaa41df",
     "showTitle": false,
     "title": ""
    }
   },
   "outputs": [],
   "source": [
    "### first lets drop unncecessary columns for downstream analysis using PowerBI and fill string null values with 'unspecified' value\n",
    "\n",
    "display(df)"
   ]
  },
  {
   "cell_type": "code",
   "execution_count": 0,
   "metadata": {
    "application/vnd.databricks.v1+cell": {
     "cellMetadata": {
      "byteLimit": 2048000,
      "rowLimit": 10000
     },
     "inputWidgets": {},
     "nuid": "a69308ca-b85a-4df8-9a23-2efc2c2943fe",
     "showTitle": false,
     "title": ""
    }
   },
   "outputs": [],
   "source": [
    "str_cols = [f.name for f in df.schema.fields if isinstance(f.dataType, StringType)]\n",
    "for col_ in str_cols:\n",
    "    if col_ == 'crash_time':\n",
    "        continue\n",
    "    else:\n",
    "        df = df.fillna({col_ : 'unspecified'})\n",
    "display(df)"
   ]
  },
  {
   "cell_type": "code",
   "execution_count": 0,
   "metadata": {
    "application/vnd.databricks.v1+cell": {
     "cellMetadata": {
      "byteLimit": 2048000,
      "rowLimit": 10000
     },
     "inputWidgets": {},
     "nuid": "a1ed1581-43b4-4bee-b0ee-b9b360b3f386",
     "showTitle": false,
     "title": ""
    }
   },
   "outputs": [],
   "source": [
    "df = df.drop(col('crash_time'))\\\n",
    "    .drop(col('cross_street_name'))\\\n",
    "        .drop(col('off_street_name'))\n",
    "display(df)"
   ]
  },
  {
   "cell_type": "code",
   "execution_count": 0,
   "metadata": {
    "application/vnd.databricks.v1+cell": {
     "cellMetadata": {
      "byteLimit": 2048000,
      "rowLimit": 10000
     },
     "inputWidgets": {},
     "nuid": "5991dc0f-4c86-4079-9583-17811c858d63",
     "showTitle": false,
     "title": ""
    }
   },
   "outputs": [],
   "source": [
    "df.repartition(1).write.format('com.databricks.spark.csv').option('header', 'true').mode('overwrite').save('abfss://motorvehiclecollisiondata@azdestabm001.dfs.core.windows.net/clean')"
   ]
  },
  {
   "cell_type": "code",
   "execution_count": 0,
   "metadata": {
    "application/vnd.databricks.v1+cell": {
     "cellMetadata": {},
     "inputWidgets": {},
     "nuid": "95432b1d-07ea-4436-ba22-6f8300dd4a50",
     "showTitle": false,
     "title": ""
    }
   },
   "outputs": [],
   "source": []
  }
 ],
 "metadata": {
  "application/vnd.databricks.v1+notebook": {
   "dashboards": [],
   "environmentMetadata": null,
   "language": "python",
   "notebookMetadata": {
    "pythonIndentUnit": 4
   },
   "notebookName": "ETL_mv_crash_data",
   "widgets": {}
  }
 },
 "nbformat": 4,
 "nbformat_minor": 0
}
